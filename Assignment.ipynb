{
 "cells": [
  {
   "cell_type": "code",
   "execution_count": 1,
   "id": "8b038b2b-278a-444c-9ab4-28688ef2f21a",
   "metadata": {},
   "outputs": [],
   "source": [
    "import pandas as pd\n",
    "import matplotlib.pyplot as plt\n",
    "import numpy as np"
   ]
  },
  {
   "cell_type": "code",
   "execution_count": 2,
   "id": "18dcdff5-e3ed-4538-80f5-c61f77756ec7",
   "metadata": {},
   "outputs": [],
   "source": [
    "data = pd.read_csv('GRE_Reg_Data (1).csv')"
   ]
  },
  {
   "cell_type": "code",
   "execution_count": 3,
   "id": "2f05e4c6-6725-4ce5-8329-d46b9d29da92",
   "metadata": {},
   "outputs": [
    {
     "data": {
      "text/html": [
       "<div>\n",
       "<style scoped>\n",
       "    .dataframe tbody tr th:only-of-type {\n",
       "        vertical-align: middle;\n",
       "    }\n",
       "\n",
       "    .dataframe tbody tr th {\n",
       "        vertical-align: top;\n",
       "    }\n",
       "\n",
       "    .dataframe thead th {\n",
       "        text-align: right;\n",
       "    }\n",
       "</style>\n",
       "<table border=\"1\" class=\"dataframe\">\n",
       "  <thead>\n",
       "    <tr style=\"text-align: right;\">\n",
       "      <th></th>\n",
       "      <th>REGISTRATION_NO</th>\n",
       "      <th>Date Registered</th>\n",
       "      <th>DATE OF EXAM OCC</th>\n",
       "      <th>TIME OCC</th>\n",
       "      <th>Age</th>\n",
       "      <th>Sex</th>\n",
       "    </tr>\n",
       "  </thead>\n",
       "  <tbody>\n",
       "    <tr>\n",
       "      <th>0</th>\n",
       "      <td>221412410</td>\n",
       "      <td>6/15/2022</td>\n",
       "      <td>11/12/2020</td>\n",
       "      <td>1700</td>\n",
       "      <td>0</td>\n",
       "      <td>NaN</td>\n",
       "    </tr>\n",
       "    <tr>\n",
       "      <th>1</th>\n",
       "      <td>220314085</td>\n",
       "      <td>7/22/2022</td>\n",
       "      <td>5/12/2020</td>\n",
       "      <td>1110</td>\n",
       "      <td>27</td>\n",
       "      <td>F</td>\n",
       "    </tr>\n",
       "    <tr>\n",
       "      <th>2</th>\n",
       "      <td>222013040</td>\n",
       "      <td>8/6/2022</td>\n",
       "      <td>6/4/2020</td>\n",
       "      <td>1620</td>\n",
       "      <td>60</td>\n",
       "      <td>M</td>\n",
       "    </tr>\n",
       "    <tr>\n",
       "      <th>3</th>\n",
       "      <td>220614831</td>\n",
       "      <td>8/18/2022</td>\n",
       "      <td>8/17/2020</td>\n",
       "      <td>1200</td>\n",
       "      <td>28</td>\n",
       "      <td>M</td>\n",
       "    </tr>\n",
       "    <tr>\n",
       "      <th>4</th>\n",
       "      <td>231207725</td>\n",
       "      <td>2/27/2023</td>\n",
       "      <td>1/27/2020</td>\n",
       "      <td>635</td>\n",
       "      <td>37</td>\n",
       "      <td>M</td>\n",
       "    </tr>\n",
       "  </tbody>\n",
       "</table>\n",
       "</div>"
      ],
      "text/plain": [
       "   REGISTRATION_NO Date Registered DATE OF EXAM OCC  TIME OCC  Age  Sex\n",
       "0        221412410       6/15/2022       11/12/2020      1700    0  NaN\n",
       "1        220314085       7/22/2022        5/12/2020      1110   27    F\n",
       "2        222013040        8/6/2022         6/4/2020      1620   60    M\n",
       "3        220614831       8/18/2022        8/17/2020      1200   28    M\n",
       "4        231207725       2/27/2023        1/27/2020       635   37    M"
      ]
     },
     "execution_count": 3,
     "metadata": {},
     "output_type": "execute_result"
    }
   ],
   "source": [
    "data.head()"
   ]
  },
  {
   "cell_type": "code",
   "execution_count": 4,
   "id": "c3402b6f-4cfb-49ae-bd20-84896d6c3267",
   "metadata": {},
   "outputs": [
    {
     "data": {
      "text/plain": [
       "(247988, 6)"
      ]
     },
     "execution_count": 4,
     "metadata": {},
     "output_type": "execute_result"
    }
   ],
   "source": [
    "data.shape"
   ]
  },
  {
   "cell_type": "code",
   "execution_count": 5,
   "id": "4c6d19a0-f753-4f80-aa74-2a7905037b9c",
   "metadata": {},
   "outputs": [
    {
     "data": {
      "text/plain": [
       "Index(['REGISTRATION_NO', 'Date Registered', 'DATE OF EXAM OCC', 'TIME OCC',\n",
       "       'Age', 'Sex'],\n",
       "      dtype='object')"
      ]
     },
     "execution_count": 5,
     "metadata": {},
     "output_type": "execute_result"
    }
   ],
   "source": [
    "data.columns"
   ]
  },
  {
   "cell_type": "code",
   "execution_count": 6,
   "id": "e5ec7f1a-5cca-4de2-bfd4-8113e98046e3",
   "metadata": {},
   "outputs": [
    {
     "data": {
      "text/plain": [
       "array([221412410, 220314085, 222013040, ..., 231606525, 231210064,\n",
       "       230906458], dtype=int64)"
      ]
     },
     "execution_count": 6,
     "metadata": {},
     "output_type": "execute_result"
    }
   ],
   "source": [
    "data['REGISTRATION_NO'].unique()"
   ]
  },
  {
   "cell_type": "code",
   "execution_count": 7,
   "id": "09af7921-4475-4bbf-ab77-ab12cf109db8",
   "metadata": {},
   "outputs": [
    {
     "data": {
      "text/plain": [
       "REGISTRATION_NO\n",
       "221412410    1\n",
       "230109780    1\n",
       "230304513    1\n",
       "231506348    1\n",
       "231411418    1\n",
       "            ..\n",
       "231307829    1\n",
       "220212493    1\n",
       "221416217    1\n",
       "221814513    1\n",
       "230906458    1\n",
       "Name: count, Length: 247988, dtype: int64"
      ]
     },
     "execution_count": 7,
     "metadata": {},
     "output_type": "execute_result"
    }
   ],
   "source": [
    "data['REGISTRATION_NO'].value_counts()"
   ]
  },
  {
   "cell_type": "code",
   "execution_count": 8,
   "id": "3a4131a0-76a2-4414-b2d5-bfe70b97a563",
   "metadata": {},
   "outputs": [
    {
     "data": {
      "text/plain": [
       "REGISTRATION_NO         0\n",
       "Date Registered         0\n",
       "DATE OF EXAM OCC        0\n",
       "TIME OCC                0\n",
       "Age                     0\n",
       "Sex                 32248\n",
       "dtype: int64"
      ]
     },
     "execution_count": 8,
     "metadata": {},
     "output_type": "execute_result"
    }
   ],
   "source": [
    "data.isnull().sum()"
   ]
  },
  {
   "cell_type": "code",
   "execution_count": 9,
   "id": "b0aaf018-de48-425d-a827-48e051ff242d",
   "metadata": {},
   "outputs": [
    {
     "data": {
      "text/plain": [
       "REGISTRATION_NO         0\n",
       "Date Registered         0\n",
       "DATE OF EXAM OCC        0\n",
       "TIME OCC                0\n",
       "Age                     0\n",
       "Sex                 32248\n",
       "dtype: int64"
      ]
     },
     "execution_count": 9,
     "metadata": {},
     "output_type": "execute_result"
    }
   ],
   "source": [
    "data.dropna()\n",
    "data.isnull().sum()"
   ]
  },
  {
   "cell_type": "code",
   "execution_count": 10,
   "id": "6efc156a-16e9-4d0a-a85f-d555cbd8a074",
   "metadata": {},
   "outputs": [
    {
     "data": {
      "text/plain": [
       "(247988, 6)"
      ]
     },
     "execution_count": 10,
     "metadata": {},
     "output_type": "execute_result"
    }
   ],
   "source": [
    "data.shape"
   ]
  },
  {
   "cell_type": "code",
   "execution_count": 11,
   "id": "7d0fe872-8471-4633-832e-fa85a21d1a9a",
   "metadata": {},
   "outputs": [
    {
     "data": {
      "text/html": [
       "<div>\n",
       "<style scoped>\n",
       "    .dataframe tbody tr th:only-of-type {\n",
       "        vertical-align: middle;\n",
       "    }\n",
       "\n",
       "    .dataframe tbody tr th {\n",
       "        vertical-align: top;\n",
       "    }\n",
       "\n",
       "    .dataframe thead th {\n",
       "        text-align: right;\n",
       "    }\n",
       "</style>\n",
       "<table border=\"1\" class=\"dataframe\">\n",
       "  <thead>\n",
       "    <tr style=\"text-align: right;\">\n",
       "      <th></th>\n",
       "      <th>REGISTRATION_NO</th>\n",
       "      <th>Date Registered</th>\n",
       "      <th>DATE OF EXAM OCC</th>\n",
       "      <th>TIME OCC</th>\n",
       "      <th>Age</th>\n",
       "      <th>Sex</th>\n",
       "    </tr>\n",
       "  </thead>\n",
       "  <tbody>\n",
       "    <tr>\n",
       "      <th>0</th>\n",
       "      <td>221412410</td>\n",
       "      <td>6/15/2022</td>\n",
       "      <td>11/12/2020</td>\n",
       "      <td>1700</td>\n",
       "      <td>0</td>\n",
       "      <td>NaN</td>\n",
       "    </tr>\n",
       "    <tr>\n",
       "      <th>1</th>\n",
       "      <td>220314085</td>\n",
       "      <td>7/22/2022</td>\n",
       "      <td>5/12/2020</td>\n",
       "      <td>1110</td>\n",
       "      <td>27</td>\n",
       "      <td>F</td>\n",
       "    </tr>\n",
       "    <tr>\n",
       "      <th>2</th>\n",
       "      <td>222013040</td>\n",
       "      <td>8/6/2022</td>\n",
       "      <td>6/4/2020</td>\n",
       "      <td>1620</td>\n",
       "      <td>60</td>\n",
       "      <td>M</td>\n",
       "    </tr>\n",
       "    <tr>\n",
       "      <th>3</th>\n",
       "      <td>220614831</td>\n",
       "      <td>8/18/2022</td>\n",
       "      <td>8/17/2020</td>\n",
       "      <td>1200</td>\n",
       "      <td>28</td>\n",
       "      <td>M</td>\n",
       "    </tr>\n",
       "    <tr>\n",
       "      <th>4</th>\n",
       "      <td>231207725</td>\n",
       "      <td>2/27/2023</td>\n",
       "      <td>1/27/2020</td>\n",
       "      <td>635</td>\n",
       "      <td>37</td>\n",
       "      <td>M</td>\n",
       "    </tr>\n",
       "  </tbody>\n",
       "</table>\n",
       "</div>"
      ],
      "text/plain": [
       "   REGISTRATION_NO Date Registered DATE OF EXAM OCC  TIME OCC  Age  Sex\n",
       "0        221412410       6/15/2022       11/12/2020      1700    0  NaN\n",
       "1        220314085       7/22/2022        5/12/2020      1110   27    F\n",
       "2        222013040        8/6/2022         6/4/2020      1620   60    M\n",
       "3        220614831       8/18/2022        8/17/2020      1200   28    M\n",
       "4        231207725       2/27/2023        1/27/2020       635   37    M"
      ]
     },
     "execution_count": 11,
     "metadata": {},
     "output_type": "execute_result"
    }
   ],
   "source": [
    "data.head()"
   ]
  },
  {
   "cell_type": "code",
   "execution_count": 12,
   "id": "fa865d77-ca19-40fb-af4e-3a2d765c7f94",
   "metadata": {},
   "outputs": [],
   "source": [
    "# Extract hour from exam_time\n",
    "data.loc[:, 'DATE OF EXAM OCC'] = pd.to_datetime(data['DATE OF EXAM OCC'], format='%m/%d/%Y')"
   ]
  },
  {
   "cell_type": "code",
   "execution_count": 13,
   "id": "6b68d8f6-c875-4ff5-805e-d04f44c5b29f",
   "metadata": {},
   "outputs": [
    {
     "data": {
      "text/html": [
       "<div>\n",
       "<style scoped>\n",
       "    .dataframe tbody tr th:only-of-type {\n",
       "        vertical-align: middle;\n",
       "    }\n",
       "\n",
       "    .dataframe tbody tr th {\n",
       "        vertical-align: top;\n",
       "    }\n",
       "\n",
       "    .dataframe thead th {\n",
       "        text-align: right;\n",
       "    }\n",
       "</style>\n",
       "<table border=\"1\" class=\"dataframe\">\n",
       "  <thead>\n",
       "    <tr style=\"text-align: right;\">\n",
       "      <th></th>\n",
       "      <th>REGISTRATION_NO</th>\n",
       "      <th>Date Registered</th>\n",
       "      <th>DATE OF EXAM OCC</th>\n",
       "      <th>TIME OCC</th>\n",
       "      <th>Age</th>\n",
       "      <th>Sex</th>\n",
       "    </tr>\n",
       "  </thead>\n",
       "  <tbody>\n",
       "    <tr>\n",
       "      <th>0</th>\n",
       "      <td>221412410</td>\n",
       "      <td>6/15/2022</td>\n",
       "      <td>2020-11-12 00:00:00</td>\n",
       "      <td>1700</td>\n",
       "      <td>0</td>\n",
       "      <td>NaN</td>\n",
       "    </tr>\n",
       "    <tr>\n",
       "      <th>1</th>\n",
       "      <td>220314085</td>\n",
       "      <td>7/22/2022</td>\n",
       "      <td>2020-05-12 00:00:00</td>\n",
       "      <td>1110</td>\n",
       "      <td>27</td>\n",
       "      <td>F</td>\n",
       "    </tr>\n",
       "    <tr>\n",
       "      <th>2</th>\n",
       "      <td>222013040</td>\n",
       "      <td>8/6/2022</td>\n",
       "      <td>2020-06-04 00:00:00</td>\n",
       "      <td>1620</td>\n",
       "      <td>60</td>\n",
       "      <td>M</td>\n",
       "    </tr>\n",
       "    <tr>\n",
       "      <th>3</th>\n",
       "      <td>220614831</td>\n",
       "      <td>8/18/2022</td>\n",
       "      <td>2020-08-17 00:00:00</td>\n",
       "      <td>1200</td>\n",
       "      <td>28</td>\n",
       "      <td>M</td>\n",
       "    </tr>\n",
       "    <tr>\n",
       "      <th>4</th>\n",
       "      <td>231207725</td>\n",
       "      <td>2/27/2023</td>\n",
       "      <td>2020-01-27 00:00:00</td>\n",
       "      <td>635</td>\n",
       "      <td>37</td>\n",
       "      <td>M</td>\n",
       "    </tr>\n",
       "  </tbody>\n",
       "</table>\n",
       "</div>"
      ],
      "text/plain": [
       "   REGISTRATION_NO Date Registered     DATE OF EXAM OCC  TIME OCC  Age  Sex\n",
       "0        221412410       6/15/2022  2020-11-12 00:00:00      1700    0  NaN\n",
       "1        220314085       7/22/2022  2020-05-12 00:00:00      1110   27    F\n",
       "2        222013040        8/6/2022  2020-06-04 00:00:00      1620   60    M\n",
       "3        220614831       8/18/2022  2020-08-17 00:00:00      1200   28    M\n",
       "4        231207725       2/27/2023  2020-01-27 00:00:00       635   37    M"
      ]
     },
     "execution_count": 13,
     "metadata": {},
     "output_type": "execute_result"
    }
   ],
   "source": [
    "data.head()"
   ]
  },
  {
   "cell_type": "code",
   "execution_count": 14,
   "id": "26dba342-3368-4125-89f0-62eacb19c8f9",
   "metadata": {},
   "outputs": [],
   "source": [
    "def parse_time(x):\n",
    "    try:\n",
    "        return pd.to_datetime(x, format='%H%M').time()\n",
    "    except ValueError:\n",
    "        return None"
   ]
  },
  {
   "cell_type": "code",
   "execution_count": 17,
   "id": "387a3930-5b77-4e81-9111-8c4cfe35aeb3",
   "metadata": {},
   "outputs": [],
   "source": [
    "# Convert 'TIME OCC' to datetime to extract the hour\n",
    "data['TIME OCC PARSED'] = data['TIME OCC'].apply(parse_time)"
   ]
  },
  {
   "cell_type": "code",
   "execution_count": 22,
   "id": "53e8b88c-474c-40f6-8528-c8814a6cc8ec",
   "metadata": {},
   "outputs": [],
   "source": [
    "data = data.dropna(subset=['TIME OCC'])"
   ]
  },
  {
   "cell_type": "code",
   "execution_count": 23,
   "id": "5aecc979-729d-4bce-8524-80e1bf41c4dd",
   "metadata": {},
   "outputs": [],
   "source": [
    "def get_day_night(time):\n",
    "    hour = time.hour\n",
    "    if 6 <= hour < 21:\n",
    "        return 'Day'\n",
    "    else:\n",
    "        return 'Night'"
   ]
  },
  {
   "cell_type": "code",
   "execution_count": 25,
   "id": "c1aa2a21-ccc0-4826-b45b-d644856f47b0",
   "metadata": {},
   "outputs": [],
   "source": [
    "# Ensure TIME OCC values are zero-padded to always have four digits\n",
    "data['HOUR OCC'] = data['TIME OCC PARSED'].apply(lambda x: x.hour)"
   ]
  },
  {
   "cell_type": "code",
   "execution_count": 26,
   "id": "9ef0e36e-cc58-432b-94b6-fc7a3e04007a",
   "metadata": {},
   "outputs": [
    {
     "data": {
      "text/html": [
       "<div>\n",
       "<style scoped>\n",
       "    .dataframe tbody tr th:only-of-type {\n",
       "        vertical-align: middle;\n",
       "    }\n",
       "\n",
       "    .dataframe tbody tr th {\n",
       "        vertical-align: top;\n",
       "    }\n",
       "\n",
       "    .dataframe thead th {\n",
       "        text-align: right;\n",
       "    }\n",
       "</style>\n",
       "<table border=\"1\" class=\"dataframe\">\n",
       "  <thead>\n",
       "    <tr style=\"text-align: right;\">\n",
       "      <th></th>\n",
       "      <th>REGISTRATION_NO</th>\n",
       "      <th>Date Registered</th>\n",
       "      <th>DATE OF EXAM OCC</th>\n",
       "      <th>TIME OCC</th>\n",
       "      <th>Age</th>\n",
       "      <th>Sex</th>\n",
       "      <th>TIME OCC PARSED</th>\n",
       "      <th>DAY_NIGHT</th>\n",
       "      <th>HOUR OCC</th>\n",
       "    </tr>\n",
       "  </thead>\n",
       "  <tbody>\n",
       "    <tr>\n",
       "      <th>0</th>\n",
       "      <td>221412410</td>\n",
       "      <td>6/15/2022</td>\n",
       "      <td>2020-11-12 00:00:00</td>\n",
       "      <td>1700</td>\n",
       "      <td>0</td>\n",
       "      <td>NaN</td>\n",
       "      <td>17:00:00</td>\n",
       "      <td>Day</td>\n",
       "      <td>17</td>\n",
       "    </tr>\n",
       "    <tr>\n",
       "      <th>1</th>\n",
       "      <td>220314085</td>\n",
       "      <td>7/22/2022</td>\n",
       "      <td>2020-05-12 00:00:00</td>\n",
       "      <td>1110</td>\n",
       "      <td>27</td>\n",
       "      <td>F</td>\n",
       "      <td>11:10:00</td>\n",
       "      <td>Day</td>\n",
       "      <td>11</td>\n",
       "    </tr>\n",
       "    <tr>\n",
       "      <th>2</th>\n",
       "      <td>222013040</td>\n",
       "      <td>8/6/2022</td>\n",
       "      <td>2020-06-04 00:00:00</td>\n",
       "      <td>1620</td>\n",
       "      <td>60</td>\n",
       "      <td>M</td>\n",
       "      <td>16:20:00</td>\n",
       "      <td>Day</td>\n",
       "      <td>16</td>\n",
       "    </tr>\n",
       "    <tr>\n",
       "      <th>3</th>\n",
       "      <td>220614831</td>\n",
       "      <td>8/18/2022</td>\n",
       "      <td>2020-08-17 00:00:00</td>\n",
       "      <td>1200</td>\n",
       "      <td>28</td>\n",
       "      <td>M</td>\n",
       "      <td>12:00:00</td>\n",
       "      <td>Day</td>\n",
       "      <td>12</td>\n",
       "    </tr>\n",
       "    <tr>\n",
       "      <th>4</th>\n",
       "      <td>231207725</td>\n",
       "      <td>2/27/2023</td>\n",
       "      <td>2020-01-27 00:00:00</td>\n",
       "      <td>635</td>\n",
       "      <td>37</td>\n",
       "      <td>M</td>\n",
       "      <td>06:35:00</td>\n",
       "      <td>Day</td>\n",
       "      <td>6</td>\n",
       "    </tr>\n",
       "  </tbody>\n",
       "</table>\n",
       "</div>"
      ],
      "text/plain": [
       "   REGISTRATION_NO Date Registered     DATE OF EXAM OCC  TIME OCC  Age  Sex  \\\n",
       "0        221412410       6/15/2022  2020-11-12 00:00:00      1700    0  NaN   \n",
       "1        220314085       7/22/2022  2020-05-12 00:00:00      1110   27    F   \n",
       "2        222013040        8/6/2022  2020-06-04 00:00:00      1620   60    M   \n",
       "3        220614831       8/18/2022  2020-08-17 00:00:00      1200   28    M   \n",
       "4        231207725       2/27/2023  2020-01-27 00:00:00       635   37    M   \n",
       "\n",
       "  TIME OCC PARSED DAY_NIGHT  HOUR OCC  \n",
       "0        17:00:00       Day        17  \n",
       "1        11:10:00       Day        11  \n",
       "2        16:20:00       Day        16  \n",
       "3        12:00:00       Day        12  \n",
       "4        06:35:00       Day         6  "
      ]
     },
     "execution_count": 26,
     "metadata": {},
     "output_type": "execute_result"
    }
   ],
   "source": [
    "data.head()"
   ]
  },
  {
   "cell_type": "code",
   "execution_count": 30,
   "id": "41887e28-fe4e-471f-bb43-00f1c1fcaf87",
   "metadata": {},
   "outputs": [],
   "source": [
    "# Convert TIME OCC to a proper datetime format and extract the hour\n",
    "hourly_counts = data['HOUR OCC'].value_counts().sort_index()"
   ]
  },
  {
   "cell_type": "code",
   "execution_count": 31,
   "id": "052efb42-8423-4e84-b197-4dd316ce3dfd",
   "metadata": {},
   "outputs": [
    {
     "data": {
      "image/png": "[encoded data removed]",
      "text/plain": [
       "<Figure size 1000x600 with 1 Axes>"
      ]
     },
     "metadata": {},
     "output_type": "display_data"
    }
   ],
   "source": [
    "# Task 1: Plotting the frequency of candidates scheduled by hour\n",
    "# Plotting the frequency of candidates scheduled by hour\n",
    "plt.figure(figsize=(10, 6))\n",
    "hourly_counts.plot(kind='bar',color='skyblue')\n",
    "plt.xlabel('Hour of the Day')\n",
    "plt.ylabel('Number of Candidates')\n",
    "plt.title('Frequency of Candidates Scheduled by Hour')\n",
    "plt.xticks(rotation=0)\n",
    "plt.show()"
   ]
  },
  {
   "cell_type": "code",
   "execution_count": 32,
   "id": "9200a6b9-d9cb-4388-bc66-60e2434f02a1",
   "metadata": {},
   "outputs": [],
   "source": [
    "# Task 2: Creating a stacked bar graph of candidates taking exams during the day and night\n",
    "def get_day_night(hour):\n",
    "    if 6 <= hour < 21:  # 06:00 AM to 09:00 PM\n",
    "        return 'Day'\n",
    "    else:\n",
    "        return 'Night'"
   ]
  },
  {
   "cell_type": "code",
   "execution_count": 43,
   "id": "5a8a9d15-fe3a-459b-a98f-cf48ba067cee",
   "metadata": {},
   "outputs": [],
   "source": [
    "# Task: Find the hour with the highest frequency of candidates scheduled to take up exams\n",
    "data['DAY_NIGHT'] = data['HOUR OCC'].apply(get_day_night)"
   ]
  },
  {
   "cell_type": "code",
   "execution_count": 34,
   "id": "539351a3-32dc-4403-a1ee-5c6953c072e6",
   "metadata": {},
   "outputs": [],
   "source": [
    "day_night_counts = data['DAY_NIGHT'].value_counts()"
   ]
  },
  {
   "cell_type": "code",
   "execution_count": 50,
   "id": "a3f21fa5-870d-4a05-ad3b-1e2bbee68b6d",
   "metadata": {},
   "outputs": [
    {
     "name": "stdout",
     "output_type": "stream",
     "text": [
      "Day counts:\n",
      " TIME OCC PARSED\n",
      "06:00:00    2319\n",
      "06:01:00      64\n",
      "06:02:00      58\n",
      "06:03:00      70\n",
      "06:04:00      53\n",
      "            ... \n",
      "20:55:00     204\n",
      "20:56:00      26\n",
      "20:57:00      25\n",
      "20:58:00      31\n",
      "20:59:00      14\n",
      "Name: count, Length: 900, dtype: int64\n",
      "Night counts:\n",
      " TIME OCC PARSED\n",
      "01:00:00    515\n",
      "01:01:00     34\n",
      "01:02:00     42\n",
      "01:03:00     31\n",
      "01:04:00     25\n",
      "           ... \n",
      "23:55:00    262\n",
      "23:56:00     13\n",
      "23:57:00     14\n",
      "23:58:00     27\n",
      "23:59:00    167\n",
      "Name: count, Length: 400, dtype: int64\n"
     ]
    }
   ],
   "source": [
    "day_counts = data[data['DAY_NIGHT'] == 'Day']['TIME OCC PARSED'].value_counts().sort_index()\n",
    "night_counts = data[data['DAY_NIGHT'] == 'Night']['TIME OCC PARSED'].value_counts().sort_index()\n",
    "day_night_df = pd.DataFrame({'Day': day_counts, 'Night': night_counts}).fillna(0)\n",
    "print(\"Day counts:\\n\", day_counts)\n",
    "print(\"Night counts:\\n\", night_counts)"
   ]
  },
  {
   "cell_type": "code",
   "execution_count": 56,
   "id": "c12b783b-f1f6-4e40-8655-b60798183d70",
   "metadata": {},
   "outputs": [
    {
     "data": {
      "image/png": "[encoded data removed]",
      "text/plain": [
       "<Figure size 1500x800 with 1 Axes>"
      ]
     },
     "metadata": {},
     "output_type": "display_data"
    }
   ],
   "source": [
    "\n",
    "day_night_df.plot(kind='bar', stacked=True, figsize=(15, 8), color=['#1f77b4', '#ff7f0e'])\n",
    "plt.xlabel('Time of Day')\n",
    "plt.ylabel('Number of Candidates')\n",
    "plt.title('Number of Candidates Taking Exams During Day and Night')\n",
    "plt.xticks(rotation=0)\n",
    "plt.grid(axis='y')\n",
    "plt.show()"
   ]
  },
  {
   "cell_type": "code",
   "execution_count": 46,
   "id": "4091b098-6559-480e-9914-ffe7df76b256",
   "metadata": {},
   "outputs": [],
   "source": [
    "# Task 3: Categorizing candidates by age groups and counting the number in each group\n",
    "bins = [0, 17, 25, 34, 44, 54, 64, float('inf')]\n",
    "labels = ['0-17', '18-25', '26-34', '35-44', '45-54', '55-64', '65+']\n",
    "data['AGE GROUP'] = pd.cut(data['Age'], bins=bins, labels=labels, right=False)"
   ]
  },
  {
   "cell_type": "code",
   "execution_count": 47,
   "id": "c44fa7e4-f065-4f11-a00e-aa7be9d5f16b",
   "metadata": {},
   "outputs": [],
   "source": [
    "age_group_counts = data['AGE GROUP'].value_counts().sort_index()"
   ]
  },
  {
   "cell_type": "code",
   "execution_count": 59,
   "id": "ec126535-f64d-4462-b6e9-a50f2a568cf3",
   "metadata": {},
   "outputs": [
    {
     "name": "stdout",
     "output_type": "stream",
     "text": [
      "Age counts:\n",
      " AGE GROUP\n",
      "0-17     64735\n",
      "18-25    23834\n",
      "26-34    46012\n",
      "35-44    42650\n",
      "45-54    28590\n",
      "55-64    20615\n",
      "65+      15867\n",
      "Name: count, dtype: int64\n"
     ]
    }
   ],
   "source": [
    "age_group_counts\n",
    "print(\"Age counts:\\n\", age_group_counts)"
   ]
  },
  {
   "cell_type": "code",
   "execution_count": 60,
   "id": "742614a7-6ea1-481f-b725-87a28f44e7af",
   "metadata": {},
   "outputs": [
    {
     "data": {
      "image/png": "[encoded data removed]",
      "text/plain": [
       "<Figure size 1000x600 with 1 Axes>"
      ]
     },
     "metadata": {},
     "output_type": "display_data"
    }
   ],
   "source": [
    "plt.figure(figsize=(10, 6))\n",
    "age_group_counts.plot(kind='bar')\n",
    "plt.xlabel('Age Group')\n",
    "plt.ylabel('Number of Candidates')\n",
    "plt.title('Number of Candidates in Each Age Group')\n",
    "plt.xticks(rotation=0)\n",
    "plt.grid(axis='y')\n",
    "plt.show()"
   ]
  },
  {
   "cell_type": "code",
   "execution_count": null,
   "id": "9f9111b7-f285-48b3-bbd9-45a777e9f71d",
   "metadata": {},
   "outputs": [],
   "source": []
  }
 ],
 "metadata": {
  "kernelspec": {
   "display_name": "Python 3 (ipykernel)",
   "language": "python",
   "name": "python3"
  },
  "language_info": {
   "codemirror_mode": {
    "name": "ipython",
    "version": 3
   },
   "file_extension": ".py",
   "mimetype": "text/x-python",
   "name": "python",
   "nbconvert_exporter": "python",
   "pygments_lexer": "ipython3",
   "version": "3.12.2"
  }
 },
 "nbformat": 4,
 "nbformat_minor": 5
}
